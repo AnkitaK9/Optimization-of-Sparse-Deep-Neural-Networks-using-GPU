{
  "nbformat": 4,
  "nbformat_minor": 0,
  "metadata": {
    "colab": {
      "provenance": []
    },
    "kernelspec": {
      "name": "python3",
      "display_name": "Python 3"
    },
    "language_info": {
      "name": "python"
    },
    "accelerator": "GPU",
    "gpuClass": "standard"
  },
  "cells": [
    {
      "cell_type": "markdown",
      "source": [
        "#Optimization of Sparse Deep Neural Network using GPU\n",
        "\n"
      ],
      "metadata": {
        "id": "L1PEbystQIM6"
      }
    },
    {
      "cell_type": "markdown",
      "source": [
        "##**Project Final Phase**"
      ],
      "metadata": {
        "id": "L8QyRvJPQ7F1"
      }
    },
    {
      "cell_type": "markdown",
      "source": [
        "### GROUP MEMBERS:\n",
        "\n",
        "\n",
        "1.   Amruta Gokhale (12040140)\n",
        "2.   Ankita Kumari (12040220)\n",
        "3.   Nidhi Sinchana SR (12040970)\n"
      ],
      "metadata": {
        "id": "r-B02J6hQWIy"
      }
    },
    {
      "cell_type": "code",
      "source": [
        "! unzip \"/content/drive/MyDrive/Parallelization Project/neuron1024.zip\""
      ],
      "metadata": {
        "id": "sfUCXVGITUuC"
      },
      "execution_count": null,
      "outputs": []
    },
    {
      "cell_type": "code",
      "execution_count": null,
      "metadata": {
        "id": "S15XxYXQ7-sH",
        "colab": {
          "base_uri": "https://localhost:8080/"
        },
        "outputId": "ad1b3aa5-fddf-4d50-a572-53caa66c96fb"
      },
      "outputs": [
        {
          "output_type": "stream",
          "name": "stdout",
          "text": [
            "Looking in indexes: https://pypi.org/simple, https://us-python.pkg.dev/colab-wheels/public/simple/\n",
            "Collecting git+https://github.com/andreinechaev/nvcc4jupyter.git\n",
            "  Cloning https://github.com/andreinechaev/nvcc4jupyter.git to /tmp/pip-req-build-ctemy5nc\n",
            "  Running command git clone -q https://github.com/andreinechaev/nvcc4jupyter.git /tmp/pip-req-build-ctemy5nc\n",
            "Building wheels for collected packages: NVCCPlugin\n",
            "  Building wheel for NVCCPlugin (setup.py) ... \u001b[?25l\u001b[?25hdone\n",
            "  Created wheel for NVCCPlugin: filename=NVCCPlugin-0.0.2-py3-none-any.whl size=4307 sha256=8a2a1db4e3fa2d406bffa64dfc071941be4ca7cff487d106f6b420f7bb3d4e82\n",
            "  Stored in directory: /tmp/pip-ephem-wheel-cache-5j3ybap_/wheels/ca/33/8d/3c86eb85e97d2b6169d95c6e8f2c297fdec60db6e84cb56f5e\n",
            "Successfully built NVCCPlugin\n",
            "Installing collected packages: NVCCPlugin\n",
            "Successfully installed NVCCPlugin-0.0.2\n",
            "created output directory at /content/src\n",
            "Out bin /content/result.out\n"
          ]
        }
      ],
      "source": [
        "!pip install git+https://github.com/andreinechaev/nvcc4jupyter.git\n",
        "%load_ext nvcc_plugin"
      ]
    },
    {
      "cell_type": "code",
      "source": [
        "from google.colab import drive\n",
        "drive.mount('/content/drive')"
      ],
      "metadata": {
        "id": "A6OWAodZQkLB"
      },
      "execution_count": null,
      "outputs": []
    },
    {
      "cell_type": "code",
      "source": [
        "%%cu\n",
        "#include <stdio.h>\n",
        "#include <stdlib.h>\n",
        "#include <string.h>  \n",
        "#include <cuda.h>\n",
        "\n",
        "__global__ void neuralLayers(float *layerMatrix, float *inputMatrix, int *inputEmptyRows, int *inputNonZeroValues, float *nextLayerInput, int *swapEmptyRows){\n",
        "    \n",
        "    __shared__ float inputShared[32][32];\n",
        "    __shared__ float layerShared[32][32];\n",
        "\n",
        "    int column = blockIdx.y*32 + threadIdx.y;\n",
        "    int row = blockIdx.x*32 + threadIdx.x;\n",
        "\n",
        "    float calculatedValue = 0;\n",
        "    \n",
        "if (inputEmptyRows[row]!=1){\n",
        "     for (int m=0; m<1024/32; m++){\n",
        "        int sharedRow = threadIdx.x+(blockIdx.x*32);\n",
        "        int sharedColumn = (32*m)+threadIdx.y;\n",
        "        int layerRow = (32*m)+threadIdx.x;\n",
        "        int layerColumn = threadIdx.y+(blockIdx.y*32);\n",
        "        inputShared[threadIdx.x][threadIdx.y]= inputMatrix[(1024*sharedRow)+sharedColumn];\n",
        "        layerShared[threadIdx.x][threadIdx.y]= layerMatrix[(1024*layerColumn)+layerRow];\n",
        "        \n",
        "        __syncthreads();\n",
        "\n",
        "        for (int k=0;k<32;k++){\n",
        "            calculatedValue+=inputShared[threadIdx.x][k]*(0.0625*layerShared[k][threadIdx.y]);\n",
        "        }\n",
        "\n",
        "    \n",
        "     }\n",
        "     if (calculatedValue!=0){\n",
        "            calculatedValue=calculatedValue-0.3;\n",
        "        } \n",
        "\n",
        "        if (calculatedValue<0){\n",
        "            calculatedValue=0;\n",
        "        } else if(calculatedValue>32){\n",
        "            calculatedValue=32;\n",
        "        }\n",
        "}\n",
        "     if (calculatedValue!=0){\n",
        "         if (swapEmptyRows[row]==1){\n",
        "             swapEmptyRows[row]=0;\n",
        "         } \n",
        "         atomicAdd(&inputNonZeroValues[row], 1);\n",
        "     }\n",
        "     nextLayerInput[row*1024+column] = calculatedValue;\n",
        "   \n",
        "  }\n",
        "\n",
        "\n",
        "int main(){\n",
        "    \n",
        "    float *wMatrix1, *wMatrix2, *gpu_wMatrix;\n",
        "    \n",
        "    FILE *y_file = fopen(\"/content/drive/MyDrive/Parallelization Project/sparse-images-1024.tsv\", \"r\");\n",
        "\n",
        "    char buffer[1024];\n",
        "    int *emptyRows, firstvertex, *nonZeroCount, secondvertex, *gpu_emptyRows, *gpu_nonZeroCount, *gpu_swapEmptyRows, *swapEmptyRows;\n",
        "    float *gpu_y0, *gpu_nexty0;\n",
        "\n",
        "    emptyRows = (int *)malloc(sizeof(int)*(60000));\n",
        "    swapEmptyRows = (int *)malloc(sizeof(int)*60000);\n",
        "    nonZeroCount = (int *)malloc(sizeof(int)*60000);\n",
        "\n",
        "    float* y0 = (float *)malloc(sizeof(float)*60000*1024);\n",
        "    float* y1 = (float *)malloc(sizeof(float)*60000*1024);\n",
        "\n",
        "    for (int p=0;p<1024*60000;p++){\n",
        "            y0[p]=0;\n",
        "    }\n",
        "    \n",
        "    for (int i=0; i<60000; i++){\n",
        "      emptyRows[i]=1;\n",
        "      swapEmptyRows[i]=1;\n",
        "      nonZeroCount[i]=0;\n",
        "    }\n",
        "\n",
        "    while (fgets(buffer, sizeof(buffer),y_file)!=NULL){\n",
        "    \n",
        "    firstvertex=atoi(strtok(buffer, \"\\t\"));\n",
        "    secondvertex=atoi(strtok(NULL, \"\\t\"));\n",
        "\n",
        "    if (emptyRows[firstvertex-1]==1){\n",
        "        emptyRows[firstvertex-1]=0;\n",
        "    }\n",
        "    y0[(secondvertex-1)+((firstvertex-1)*1024)]=1;\n",
        "    \n",
        "    \n",
        "\t}\n",
        "\tfclose(y_file);\n",
        "\n",
        "    cudaMalloc(&gpu_y0, 1024*60000*sizeof(float));\n",
        "    cudaMalloc(&gpu_emptyRows, 60000*sizeof(int));\n",
        "    cudaMalloc(&gpu_swapEmptyRows, 60000*sizeof(int));\n",
        "    cudaMalloc(&gpu_nonZeroCount, 60000*sizeof(int));\n",
        "    cudaMalloc(&gpu_nexty0, 1024*60000*sizeof(float));\n",
        "\n",
        "    cudaMemcpy(gpu_y0, y0, 1024*60000*sizeof(float), cudaMemcpyHostToDevice) ;\n",
        "    cudaMemcpy(gpu_emptyRows, emptyRows, 60000*sizeof(int), cudaMemcpyHostToDevice);\n",
        "    cudaMemcpy(gpu_swapEmptyRows, swapEmptyRows, 60000*sizeof(int), cudaMemcpyHostToDevice);\n",
        "\n",
        "    int fileNumber=0;\n",
        "    cudaMalloc(&gpu_wMatrix, 1024*1024*sizeof(float));\n",
        "\n",
        "    while (fileNumber<1919){\n",
        "        \n",
        "        fileNumber++;\n",
        "\n",
        "        char *fileToOpen=\"/content/neuron1024/n1024-l\";\n",
        "        char fileNumberString[50];\n",
        "\n",
        "        if (fileNumber==1){\n",
        "            snprintf(fileNumberString, 100, \"/content/neuron1024/n1024-l%d\", fileNumber);\n",
        "            strcat(fileNumberString, \".tsv\");\n",
        "\n",
        "            char chunk[2048];\n",
        "            int maxvertex = 1024;\n",
        "            int firstnode, secondnode;\n",
        "\n",
        "            cudaMallocHost(&wMatrix1, sizeof(float)*1024*1024);\n",
        "\n",
        "            FILE *wFile1 = fopen(fileNumberString, \"r\");\n",
        "\n",
        "            while (fgets(chunk, sizeof(chunk),wFile1)!=NULL){\n",
        "                \n",
        "                firstnode=atoi(strtok(chunk, \"\\t\"));\n",
        "                secondnode = atoi(strtok(NULL, \"\\t\"));\n",
        "\n",
        "                wMatrix1[(secondnode-1)+((firstnode-1)*1024)]=1;\n",
        "                \n",
        "            }\n",
        "            fclose(wFile1);    \n",
        "        \n",
        "\n",
        "            cudaMemcpy(gpu_wMatrix, wMatrix1, (sizeof(float)*1024*1024), cudaMemcpyHostToDevice);\n",
        "\n",
        "            strcpy(fileNumberString, \"\");\n",
        "            snprintf(fileNumberString, 100, \"/content/neuron1024/n1024-l%d\", fileNumber+1);\n",
        "            strcat(fileNumberString, \".tsv\");\n",
        "\n",
        "\n",
        "            cudaMallocHost(&wMatrix2, sizeof(float)*1024*1024);\n",
        "\n",
        "            FILE *wFile2 = fopen(fileNumberString, \"r\");\n",
        "\n",
        "            while (fgets(chunk, sizeof(chunk),wFile2)!=NULL){\n",
        "                \n",
        "                firstnode=atoi(strtok(chunk, \"\\t\"));\n",
        "                secondnode = atoi(strtok(NULL, \"\\t\"));\n",
        "\n",
        "                wMatrix2[(secondnode-1)+((firstnode-1)*1024)]=1;\n",
        "                \n",
        "            }\n",
        "            fclose(wFile2);\n",
        "\n",
        "        } else{\n",
        "            snprintf(fileNumberString, 100, \"/content/neuron1024/n1024-l%d\", fileNumber+1);\n",
        "            strcat(fileNumberString, \".tsv\");\n",
        "\n",
        "            if (fileNumber%2==0){\n",
        "                cudaFreeHost(wMatrix1);\n",
        "\n",
        "                cudaMemcpy(gpu_wMatrix, wMatrix2, (sizeof(float)*1024)*1024, cudaMemcpyHostToDevice);\n",
        "\n",
        "                FILE *w_file1 = fopen(fileNumberString, \"r\");\n",
        "\n",
        "                char chunk[2048];\n",
        "                int maxvertex = 1024;\n",
        "                int firstnode, secondnode;\n",
        "\n",
        "                cudaMallocHost(&wMatrix1, sizeof(float)*1024*1024);\n",
        "\n",
        "                FILE *wFile1 = fopen(fileNumberString, \"r\");\n",
        "\n",
        "                while (fgets(chunk, sizeof(chunk),wFile1)!=NULL){\n",
        "                    \n",
        "                    firstnode=atoi(strtok(chunk, \"\\t\"));\n",
        "                    secondnode = atoi(strtok(NULL, \"\\t\"));\n",
        "\n",
        "                    wMatrix1[(secondnode-1)+((firstnode-1)*1024)]=1;\n",
        "                    \n",
        "                }\n",
        "                fclose(wFile1);\n",
        "                \n",
        "\n",
        "            } else{\n",
        "                cudaFreeHost(wMatrix2);\n",
        "\n",
        "\n",
        "                cudaMemcpy(gpu_wMatrix, wMatrix1, (sizeof(float)*1024*1024), cudaMemcpyHostToDevice);\n",
        "\n",
        "                FILE *w_file2 = fopen(fileNumberString, \"r\");\n",
        "\n",
        "                char chunk[2048];\n",
        "                int maxvertex = 1024;\n",
        "                int firstnode, secondnode;\n",
        "\n",
        "\n",
        "                cudaMallocHost(&wMatrix2, sizeof(float)*1024*1024);\n",
        "\n",
        "                FILE *wFile2 = fopen(fileNumberString, \"r\");\n",
        "\n",
        "                while (fgets(chunk, sizeof(chunk),wFile2)!=NULL){\n",
        "                    \n",
        "                    firstnode=atoi(strtok(chunk, \"\\t\"));\n",
        "                    secondnode = atoi(strtok(NULL, \"\\t\"));\n",
        "\n",
        "                    wMatrix2[(secondnode-1)+((firstnode-1)*1024)]=1;\n",
        "                    \n",
        "                }\n",
        "                fclose(wFile2);\n",
        "            }\n",
        "        }\n",
        "\n",
        "        dim3 block(32, 32);\n",
        "        dim3 grid(60000/32, 1024/32);\n",
        "\n",
        "        neuralLayers<<<grid, block>>>(gpu_wMatrix, gpu_y0, gpu_emptyRows, gpu_nonZeroCount, gpu_nexty0, gpu_swapEmptyRows);\n",
        "        cudaMemcpy(gpu_y0, gpu_nexty0, 1024*60000*sizeof(float), cudaMemcpyDeviceToDevice);\n",
        "        cudaMemcpy(gpu_emptyRows, gpu_swapEmptyRows, 60000*sizeof(int), cudaMemcpyDeviceToDevice);\n",
        "        cudaMemcpy(gpu_swapEmptyRows, swapEmptyRows, 60000*sizeof(int), cudaMemcpyHostToDevice);\n",
        "        cudaMemcpy(y1, gpu_nexty0, sizeof(float)*1024*60000, cudaMemcpyDeviceToHost);\n",
        "\n",
        "        if (fileNumber+1==1920){\n",
        "            cudaMemcpy(nonZeroCount, gpu_nonZeroCount, 60000*sizeof(int), cudaMemcpyDeviceToHost);\n",
        "        }\n",
        "     \n",
        "    }\n",
        "\n",
        "\n",
        "for (int x=0; x<50; x++){\n",
        "  printf(\"%f\\n\", y1[x]);\n",
        "}    \n",
        "\n",
        "  return 0;\n",
        "}\n"
      ],
      "metadata": {
        "colab": {
          "base_uri": "https://localhost:8080/"
        },
        "id": "M-UE8mrn8LRS",
        "outputId": "f0860ae5-5310-43af-acc9-adfecd1fb25c"
      },
      "execution_count": null,
      "outputs": [
        {
          "output_type": "stream",
          "name": "stdout",
          "text": [
            "\n"
          ]
        }
      ]
    },
    {
      "cell_type": "markdown",
      "source": [
        "Google drive link:\n",
        "\n",
        "https://drive.google.com/drive/folders/1QIn80agnIeqojC4f4JYDxT6AQosx0qE4?usp=share_link"
      ],
      "metadata": {
        "id": "NEw8RoqPRwAl"
      }
    }
  ]
}